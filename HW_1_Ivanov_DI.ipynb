{
 "cells": [
  {
   "cell_type": "markdown",
   "id": "f9e93b7b",
   "metadata": {},
   "source": [
    "__1.__ Исследуйте на линейную зависимость:\n",
    "\n",
    "$$f_{1}(x)=e^{x}, f_{2}(x)=1, f_{3}(x)=x+1, f_{4}(x)=x-e^{x}.$$"
   ]
  },
  {
   "cell_type": "markdown",
   "id": "1f416477",
   "metadata": {},
   "source": [
    "$$f_{4}(x)=f_{3}(x) - f_{2}(x) - f_{1}(x) = x-e^{x}.$$\n",
    "Ответ: Функции линейнозависимы"
   ]
  },
  {
   "cell_type": "markdown",
   "id": "022b500a",
   "metadata": {},
   "source": [
    "__2.__ Исследуйте на линейную зависимость:\n",
    "$$f_{1}(x)=2, f_{2}(x)=x, f_{3}(x)=x^{2}, f_{4}(x)=(x+1)^{2}$$"
   ]
  },
  {
   "cell_type": "markdown",
   "id": "67d8f6c9",
   "metadata": {},
   "source": [
    "Получаем: \n",
    "$$x^{2} + 2х +1$$\n",
    "$$f_{4}(x) = f_{3}(x) + 2f_{2}(x)+0,5f_{1}(x)$$\n",
    "Ответ: Функции линейнозависимы"
   ]
  },
  {
   "cell_type": "markdown",
   "id": "85608d74",
   "metadata": {},
   "source": [
    "__3.__ Найдите координаты вектора $x = (2, 3, 5)\\in \\mathbb{R}^{3}$ в базисе $b_{1}=(0, 0, 10)$, $b_{2}=(2, 0, 0)$, $b_{3}=(0, 1, 0)$.\n"
   ]
  },
  {
   "cell_type": "markdown",
   "id": "327d8d86",
   "metadata": {},
   "source": [
    "Ответ: $x = b_{2} + 3b_{3} + 0,5b_{1}$."
   ]
  },
  {
   "cell_type": "markdown",
   "id": "68acf44c",
   "metadata": {},
   "source": [
    "__4.__ Найдите координаты вектора $3x^{2}-2x+2\\in\\mathbb{R}^{3}[x]$:\n",
    "\n",
    "а) в базисе $1$, $x$, $x^{2}$;\n",
    "\n",
    "б) в базисе $x^{2}$, $x-1$, $1$."
   ]
  },
  {
   "cell_type": "markdown",
   "id": "9af6f550",
   "metadata": {},
   "source": [
    "Координаты базисов:\n",
    "\n",
    "    а) (2,-2,3)\n",
    "    \n",
    "    б) (3,-2,0)"
   ]
  },
  {
   "cell_type": "markdown",
   "id": "ca70617b",
   "metadata": {},
   "source": [
    "__5.__ Установите, считается ли линейным подпространством:\n",
    "\n",
    "а) совокупность всех векторов трёхмерного пространства, у которых по крайней мере одна из первых двух координат равна нулю;\n",
    "    \n",
    "б) все векторы, считающиеся линейными комбинациями данных векторов $\\{u_{1}, u_{2} \\ldots, u_{n}\\}$."
   ]
  },
  {
   "cell_type": "markdown",
   "id": "dae6930e",
   "metadata": {},
   "source": [
    "Ответ:\n",
    "\n",
    "а) Контрпример: (0,a,b) + (c,0,d) = (c,a,b+d), ни одна их первых коорднат не равна 0-ю, ответ - это не подпространство.\n",
    "\n",
    "б) Результаты сложения и умножения покажут линейные комбинации заданных вакторов. Ответ -  все векторы, считающиеся линейными комбинациями векторов $\\{u_{1}, u_{2} \\ldots, u_{n}\\}$ являются их подпространством."
   ]
  },
  {
   "cell_type": "markdown",
   "id": "c6245852",
   "metadata": {},
   "source": [
    "__1.__ Найдите скалярное произведение векторов $x, y \\in \\mathbb{R}$:<br>\n",
    "а) $x=(0,-3, 6),~y=(-4, 7, 9);$<br>\n",
    "б) $x=(7, -4, 0, 1),~y=(-3, 1, 11, 2).$"
   ]
  },
  {
   "cell_type": "code",
   "execution_count": 18,
   "id": "1331072c",
   "metadata": {},
   "outputs": [
    {
     "name": "stdout",
     "output_type": "stream",
     "text": [
      "[-4  4 15] [ 4 -3 11  3]\n",
      "\n",
      "Скалярное произведение \n",
      "x1,y1:33\n",
      "x2,y2:-23\n",
      "\n",
      "[-69 -24 -12]\n",
      "6.708203932499369 12.083045973594572 8.12403840463596 11.61895003862225\n"
     ]
    }
   ],
   "source": [
    "import numpy as np\n",
    "x1 = np.array([0,-3, 6])\n",
    "y1 = np.array([-4, 7, 9])\n",
    "x2 = np.array([7, -4, 0, 1])\n",
    "y2 = np.array([-3, 1, 11, 2])\n",
    "print(x1 + y1, x2 + y2)\n",
    "print(f'\\nСкалярное произведение \\nx1,y1:{np.dot(x1, y1)}\\nx2,y2:{np.dot(x2, y2)}\\n')\n",
    "print(np.cross(x1, y1))\n",
    "print(np.linalg.norm(x1), np.linalg.norm(y1), np.linalg.norm(x2), np.linalg.norm(y2))"
   ]
  },
  {
   "cell_type": "markdown",
   "id": "da18936e",
   "metadata": {},
   "source": [
    "__2.__ Найдите нормы векторов $(4, 2, 4)$ и $(12, 3, 4)$ и угол между ними."
   ]
  },
  {
   "cell_type": "code",
   "execution_count": 22,
   "id": "63ffe261",
   "metadata": {},
   "outputs": [
    {
     "name": "stdout",
     "output_type": "stream",
     "text": [
      "L1 (манхэттенское расстояние) норма векторов:\n",
      " 10.0 19.0\n",
      "L2 (евклидова норма) норма векторов:\n",
      " 6.0 13.0\n",
      "Угол (евклидова норма): 0.4568740035326613\n",
      "Косинус угла между a и b: 0.8974358974358974\n"
     ]
    }
   ],
   "source": [
    "from numpy.linalg import norm\n",
    "a = np.array([4,2,4])\n",
    "b = np.array([12,3,4])\n",
    "print('L1 (манхэттенское расстояние) норма векторов:\\n', norm(a, ord=1), norm(b, ord=1))\n",
    "print ('L2 (евклидова норма) норма векторов:\\n', norm(a, ord=2), norm(b, ord=2))\n",
    "cos_angle = np.dot(a, b) / norm(a) / norm(b)\n",
    "print ('Угол (евклидова норма):', np.arccos(cos_angle))\n",
    "print ('Косинус угла между a и b:', cos_angle)"
   ]
  },
  {
   "cell_type": "markdown",
   "id": "e3143cdb",
   "metadata": {},
   "source": [
    "__3.__ Определите, будет ли линейное пространство евклидовым, если за скалярное произведение принять:<br>\n",
    "а) произведение длин векторов;<br>\n",
    "б) утроенное обычное скалярное произведение векторов?<br>"
   ]
  },
  {
   "cell_type": "markdown",
   "id": "65cbc52f",
   "metadata": {},
   "source": [
    "Ответ:\n",
    "\n",
    "а) Нет. Не выполняется 3-яя аксима Евклидова пространства: (х1+х2,у) = (х1,у) + (х2,у).\n",
    "\n",
    "б) Да. Все аксиомы выполняются."
   ]
  },
  {
   "cell_type": "markdown",
   "id": "94290eb1",
   "metadata": {},
   "source": [
    "__4.__ Выясните, какие из нижеперечисленных векторов образуют ортонормированный базис в линейном пространстве $\\mathbb{R}^{3}$:<br>\n",
    "а) $(1,0,0),(0,0,1);$ <br>\n",
    "б) $(1/\\sqrt{2},-1/\\sqrt{2},0),(1/\\sqrt{2},1/\\sqrt{2},0), (0,0,1);$<br>\n",
    "в) $(1/2, -1/2, 0), (0, 1/2, 1/2), (0,0,1);$<br>\n",
    "г) $(1,0,0),(0,1,0),(0,0,1)?$ "
   ]
  },
  {
   "cell_type": "markdown",
   "id": "5411e5f0",
   "metadata": {},
   "source": [
    "Ответы:\n",
    "    \n",
    "а) Не образуют. Не полная система (два базиза для трёхмерного пространства)"
   ]
  },
  {
   "cell_type": "markdown",
   "id": "89f1918e",
   "metadata": {},
   "source": [
    "б) Образуют."
   ]
  },
  {
   "cell_type": "code",
   "execution_count": 26,
   "id": "e3e6e61e",
   "metadata": {},
   "outputs": [
    {
     "name": "stdout",
     "output_type": "stream",
     "text": [
      "(a, a)=1\n",
      "(b, b)=1\n",
      "(c, c)=1\n"
     ]
    }
   ],
   "source": [
    "a = np.array([1/(2)**0.5, -1/(2)**0.5, 0])\n",
    "b = np.array([1/(2)**0.5, 1/(2)**0.5, 0])\n",
    "c = np.array([0, 0, 1])\n",
    "print(f'(a, a)={a.dot(a):1.0f}')\n",
    "print(f'(b, b)={b.dot(b):1.0f}')\n",
    "print(f'(c, c)={c.dot(c):1.0f}')"
   ]
  },
  {
   "cell_type": "code",
   "execution_count": 27,
   "id": "c4649f4b",
   "metadata": {},
   "outputs": [
    {
     "name": "stdout",
     "output_type": "stream",
     "text": [
      "(a, b)=0.0\n",
      "(a, c)=0.0\n",
      "(c, b)=0.0\n"
     ]
    }
   ],
   "source": [
    "print(f'(a, b)={a.dot(b)}')\n",
    "print(f'(a, c)={a.dot(c)}')\n",
    "print(f'(c, b)={c.dot(b)}')"
   ]
  },
  {
   "cell_type": "markdown",
   "id": "924c700a",
   "metadata": {},
   "source": [
    "в) Не образуют."
   ]
  },
  {
   "cell_type": "code",
   "execution_count": 28,
   "id": "19fa915a",
   "metadata": {},
   "outputs": [
    {
     "name": "stdout",
     "output_type": "stream",
     "text": [
      "(a, a)=0\n",
      "(b, b)=0\n",
      "(c, c)=1\n"
     ]
    }
   ],
   "source": [
    "a = np.array([1/2, -1/2, 0])\n",
    "b = np.array([0, 1/2, 1/2])\n",
    "c = np.array([0, 0, 1])\n",
    "print(f'(a, a)={a.dot(a):1.0f}')\n",
    "print(f'(b, b)={b.dot(b):1.0f}')\n",
    "print(f'(c, c)={c.dot(c):1.0f}')"
   ]
  },
  {
   "cell_type": "markdown",
   "id": "8d74fd4b",
   "metadata": {},
   "source": [
    "г) Образуют."
   ]
  },
  {
   "cell_type": "code",
   "execution_count": 30,
   "id": "eaeba04d",
   "metadata": {},
   "outputs": [
    {
     "name": "stdout",
     "output_type": "stream",
     "text": [
      "(a, a)=1\n",
      "(b, b)=1\n",
      "(c, c)=1\n"
     ]
    }
   ],
   "source": [
    "a = np.array([1, 0, 0])\n",
    "b = np.array([0, 1, 0])\n",
    "c = np.array([0, 0, 1])\n",
    "print(f'(a, a)={a.dot(a):1.0f}')\n",
    "print(f'(b, b)={b.dot(b):1.0f}')\n",
    "print(f'(c, c)={c.dot(c):1.0f}')"
   ]
  },
  {
   "cell_type": "code",
   "execution_count": 31,
   "id": "7a7478a1",
   "metadata": {},
   "outputs": [
    {
     "name": "stdout",
     "output_type": "stream",
     "text": [
      "(a, b)=0\n",
      "(a, c)=0\n",
      "(c, b)=0\n"
     ]
    }
   ],
   "source": [
    "print(f'(a, b)={a.dot(b)}')\n",
    "print(f'(a, c)={a.dot(c)}')\n",
    "print(f'(c, b)={c.dot(b)}')"
   ]
  }
 ],
 "metadata": {
  "kernelspec": {
   "display_name": "Python 3 (ipykernel)",
   "language": "python",
   "name": "python3"
  },
  "language_info": {
   "codemirror_mode": {
    "name": "ipython",
    "version": 3
   },
   "file_extension": ".py",
   "mimetype": "text/x-python",
   "name": "python",
   "nbconvert_exporter": "python",
   "pygments_lexer": "ipython3",
   "version": "3.10.4"
  }
 },
 "nbformat": 4,
 "nbformat_minor": 5
}
