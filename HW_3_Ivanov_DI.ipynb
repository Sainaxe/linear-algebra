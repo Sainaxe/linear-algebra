{
 "cells": [
  {
   "cell_type": "markdown",
   "id": "916cc366",
   "metadata": {},
   "source": [
    "__1.__ Найдите собственные векторы и собственные значения для линейного оператора, заданного матрицей:\n",
    "\n",
    "$$A=\\begin{pmatrix}\n",
    "-1 & -6\\\\ \n",
    "2 & 6\n",
    "\\end{pmatrix}.$$"
   ]
  },
  {
   "cell_type": "code",
   "execution_count": 2,
   "id": "f82ef6d6",
   "metadata": {},
   "outputs": [],
   "source": [
    "import numpy as np\n",
    "a = np.array([[-1, -6], [2, 6]])\n",
    "w, v = np.linalg.eig(a)"
   ]
  },
  {
   "cell_type": "code",
   "execution_count": 3,
   "id": "5c611187",
   "metadata": {},
   "outputs": [
    {
     "name": "stdout",
     "output_type": "stream",
     "text": [
      "Собственные числа:\n",
      " [2. 3.]\n",
      "Собственные векторы:\n",
      " [[-0.89442719  0.83205029]\n",
      " [ 0.4472136  -0.5547002 ]]\n"
     ]
    }
   ],
   "source": [
    "print (\"Собственные числа:\\n\", w)\n",
    "print (\"Собственные векторы:\\n\", v)"
   ]
  },
  {
   "cell_type": "markdown",
   "id": "78a49923",
   "metadata": {},
   "source": [
    "__2.__ Дан оператор поворота на 180 градусов, задаваемый матрицей:\n",
    "\n",
    "$$A=\\begin{pmatrix}\n",
    "-1 & 0\\\\ \n",
    "0 & -1\n",
    "\\end{pmatrix}.$$\n",
    "\n",
    "Покажите, что __любой__ вектор считается для него собственным."
   ]
  },
  {
   "cell_type": "code",
   "execution_count": 9,
   "id": "d8b7a1e5",
   "metadata": {},
   "outputs": [],
   "source": [
    "b = np.array([[-1, 0], [0, -1]])\n",
    "n, m = np.linalg.eig(b)"
   ]
  },
  {
   "cell_type": "code",
   "execution_count": 10,
   "id": "7a14c553",
   "metadata": {},
   "outputs": [
    {
     "name": "stdout",
     "output_type": "stream",
     "text": [
      "Собственные числа:\n",
      " [-1. -1.]\n",
      "Собственные векторы:\n",
      " [[1. 0.]\n",
      " [0. 1.]]\n"
     ]
    }
   ],
   "source": [
    "print (\"Собственные числа:\\n\", n)\n",
    "print (\"Собственные векторы:\\n\", m)"
   ]
  },
  {
   "cell_type": "markdown",
   "id": "486e41e5",
   "metadata": {},
   "source": [
    "$$\\begin{pmatrix}\n",
    "-1 & 0\\\\ \n",
    "0 & -1\n",
    "\\end{pmatrix}\n",
    "\\begin{pmatrix}\n",
    "x_1\\\\\n",
    "x_2\\end{pmatrix}=\\lambda\\begin{pmatrix}\n",
    "x_1\\\\\n",
    "x_2\\end{pmatrix}$$"
   ]
  },
  {
   "cell_type": "markdown",
   "id": "15663db0",
   "metadata": {},
   "source": [
    "$$\n",
    "\\left\\{\n",
    "    \\begin{array}\\\\\n",
    "        -x_1 = \\lambda \\cdot x_1 \\\\\n",
    "        -x_2 = \\lambda \\cdot x_2\n",
    "    \\end{array}\n",
    "\\right.\n",
    "$$\n",
    "Посдтавим собственные значения\n",
    "$$\n",
    "\\lambda_1 = \\lambda_2 = -1\n",
    "$$\n",
    "Получим:\n",
    "$$\n",
    "\\left\\{\n",
    "    \\begin{array}\\\\\n",
    "        -x_1 = -x_1 \\\\\n",
    "        -x_2 = -x_2\n",
    "    \\end{array}\n",
    "\\right.\n",
    "$$\n",
    "Любое значение, подставленное в систему уравнений - верное"
   ]
  },
  {
   "cell_type": "markdown",
   "id": "254687f7",
   "metadata": {},
   "source": [
    "__3.__ Пусть линейный оператор задан матрицей:\n",
    "\n",
    "$$A=\\begin{pmatrix}\n",
    "1 & 1\\\\ \n",
    "-1 & 3\n",
    "\\end{pmatrix}.$$\n",
    "\n",
    "Установите, считается ли вектор $x=(1,1)$ собственным вектором этого линейного оператора."
   ]
  },
  {
   "cell_type": "code",
   "execution_count": 16,
   "id": "c155e6cc",
   "metadata": {},
   "outputs": [],
   "source": [
    "c = np.array([[1, 1], [-1, 3]])\n",
    "f, g = np.linalg.eig(c)"
   ]
  },
  {
   "cell_type": "code",
   "execution_count": 17,
   "id": "b455de15",
   "metadata": {},
   "outputs": [
    {
     "name": "stdout",
     "output_type": "stream",
     "text": [
      "Собственные числа:\n",
      " [2.00000002 1.99999998]\n",
      "Собственные векторы:\n",
      " [[ 0.70710677 -0.70710679]\n",
      " [ 0.70710679 -0.70710677]]\n"
     ]
    }
   ],
   "source": [
    "print (\"Собственные числа:\\n\", f)\n",
    "print (\"Собственные векторы:\\n\", g)"
   ]
  },
  {
   "cell_type": "markdown",
   "id": "103ef211",
   "metadata": {},
   "source": [
    "$$\\begin{pmatrix}\n",
    "1 & 1\\\\ \n",
    "-1 & 3\n",
    "\\end{pmatrix}\n",
    "\\begin{pmatrix}\n",
    "1\\\\\n",
    "1\\end{pmatrix}=\\lambda\\begin{pmatrix}\n",
    "1\\\\\n",
    "1\\end{pmatrix}$$"
   ]
  },
  {
   "cell_type": "markdown",
   "id": "de523630",
   "metadata": {},
   "source": [
    "$$\n",
    "\\left\\{\n",
    "    \\begin{array}\\\\\n",
    "       1+1 = 1\\cdot\\lambda \\\\\n",
    "        -1+3 = 1\\cdot\\lambda\n",
    "    \\end{array}\n",
    "\\right.\n",
    "$$\n",
    "$$\n",
    "\\left\\{\n",
    "    \\begin{array}\\\\\n",
    "      \\lambda = 2\\\\\n",
    "      \\lambda = 2\n",
    "    \\end{array}\n",
    "\\right.\n",
    "$$\n",
    "Вектор х = (1;1) - собственный"
   ]
  },
  {
   "cell_type": "markdown",
   "id": "11b72035",
   "metadata": {},
   "source": [
    "**4*.** Пусть линейный оператор задан матрицей:\n",
    "\n",
    "$$A=\\begin{pmatrix} 0 & 3 & 0\\\\ 3 & 0 & 0\\\\ 0 & 0 & 3 \\end{pmatrix}.$$\n",
    "\n",
    "Установите, считается ли вектор $x=(3, -3, -4)$ собственным вектором этого линейного оператора."
   ]
  },
  {
   "cell_type": "code",
   "execution_count": 20,
   "id": "c7ff7a86",
   "metadata": {},
   "outputs": [],
   "source": [
    "j = np.array([[0, 3, 0], [3, 0, 0], [0, 0, 3]])\n",
    "k, l = np.linalg.eig(j)"
   ]
  },
  {
   "cell_type": "code",
   "execution_count": 21,
   "id": "edf00652",
   "metadata": {},
   "outputs": [
    {
     "name": "stdout",
     "output_type": "stream",
     "text": [
      "Собственные числа:\n",
      " [ 3. -3.  3.]\n",
      "Собственные векторы:\n",
      " [[ 0.70710678 -0.70710678  0.        ]\n",
      " [ 0.70710678  0.70710678  0.        ]\n",
      " [ 0.          0.          1.        ]]\n"
     ]
    }
   ],
   "source": [
    "print (\"Собственные числа:\\n\", k)\n",
    "print (\"Собственные векторы:\\n\", l)"
   ]
  },
  {
   "cell_type": "markdown",
   "id": "9975ac3e",
   "metadata": {},
   "source": [
    "$$\\begin{pmatrix}\n",
    "0 & 3 & 0\\\\ \n",
    "3 & 0 & 0\\\\\n",
    "0 & 0 & 3\n",
    "\\end{pmatrix}\n",
    "\\begin{pmatrix}\n",
    "3\\\\\n",
    "-3\\\\\n",
    "-4\n",
    "\\end{pmatrix}=\\lambda\\begin{pmatrix}\n",
    "3\\\\\n",
    "-3\\\\\n",
    "-4\\end{pmatrix}$$"
   ]
  },
  {
   "cell_type": "markdown",
   "id": "4873be50",
   "metadata": {},
   "source": [
    "$$\n",
    "\\left\\{\n",
    "    \\begin{array}\\\\\n",
    "       -9 = 3\\cdot\\lambda \\\\\n",
    "       9 = -3\\cdot\\lambda \\\\\n",
    "       -12 = -4\\cdot\\lambda \\\\\n",
    "    \\end{array}\n",
    "\\right.\n",
    "$$\n",
    "$$\n",
    "\\left\\{\n",
    "    \\begin{array}\\\\\n",
    "      \\lambda = -3\\\\\n",
    "      \\lambda = -3\\\\\n",
    "      \\lambda = 3\n",
    "    \\end{array}\n",
    "\\right.\n",
    "$$\n",
    "Вектор х = (3;-3;-4) - не является собственным"
   ]
  }
 ],
 "metadata": {
  "kernelspec": {
   "display_name": "Python 3 (ipykernel)",
   "language": "python",
   "name": "python3"
  },
  "language_info": {
   "codemirror_mode": {
    "name": "ipython",
    "version": 3
   },
   "file_extension": ".py",
   "mimetype": "text/x-python",
   "name": "python",
   "nbconvert_exporter": "python",
   "pygments_lexer": "ipython3",
   "version": "3.10.4"
  }
 },
 "nbformat": 4,
 "nbformat_minor": 5
}
