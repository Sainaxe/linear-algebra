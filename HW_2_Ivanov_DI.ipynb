{
 "cells": [
  {
   "cell_type": "markdown",
   "id": "986493dd",
   "metadata": {},
   "source": [
    "__1.__ Установите, какие произведения матриц $AB$ и $BA$ определены, и найдите размерности полученных матриц:\n",
    "\n",
    "   а) $A$ — матрица $4\\times 2$, $B$ — матрица $4\\times 2$;\n",
    "    \n",
    "   б) $A$ — матрица $2\\times 5$, $B$ — матрица $5\\times 3$;\n",
    "    \n",
    "   в) $A$ — матрица $8\\times 3$, $B$ — матрица $3\\times 8$;\n",
    "    \n",
    "   г) $A$ — квадратная матрица $4\\times 4$, $B$ — квадратная матрица $4\\times 4$."
   ]
  },
  {
   "cell_type": "markdown",
   "id": "d169ac8c",
   "metadata": {},
   "source": [
    "Ответ:\n",
    "\n",
    "а) АхВ перемножить нельзя (4х2)и(4х2);\n",
    "\n",
    "б) АхВ (2х3); ВхА перемножить нельзя (5х3)и(2х5);\n",
    "\n",
    "в) АхВ (8х8); ВхА (3х3);\n",
    "\n",
    "г) АхВ/ВхА (4х4)."
   ]
  },
  {
   "cell_type": "markdown",
   "id": "aa9378d9",
   "metadata": {},
   "source": [
    "__2.__ Найдите сумму и произведение матриц $A=\\begin{pmatrix}\n",
    "1 & -2\\\\ \n",
    "3 & 0\n",
    "\\end{pmatrix}$ и $B=\\begin{pmatrix}\n",
    "4 & -1\\\\ \n",
    "0 & 5\n",
    "\\end{pmatrix}.$"
   ]
  },
  {
   "cell_type": "markdown",
   "id": "c0bfb04c",
   "metadata": {},
   "source": [
    "$A+В=\\begin{pmatrix}\n",
    "1+4 & -2-1\\\\ \n",
    "3+0 & 0+5\n",
    "\\end{pmatrix}$ = $\\begin{pmatrix}\n",
    "5 & -3\\\\ \n",
    "3 & 5\n",
    "\\end{pmatrix}.$"
   ]
  },
  {
   "cell_type": "markdown",
   "id": "050d6745",
   "metadata": {},
   "source": [
    "$A*В=\\begin{pmatrix}\n",
    "1*4+-2*0 & 1*-1+-2*5\\\\ \n",
    "3*4+0*0 & 3*-1+0*5\n",
    "\\end{pmatrix}$ = $\\begin{pmatrix}\n",
    "4 & -11\\\\ \n",
    "12 & -3\n",
    "\\end{pmatrix}.$"
   ]
  },
  {
   "cell_type": "markdown",
   "id": "4a5115c9",
   "metadata": {},
   "source": [
    "$В*А=\\begin{pmatrix}\n",
    "4*1+-1*3 & 4*-2+-1*0\\\\ \n",
    "0*1+5*3 & 0*-2+5*0\n",
    "\\end{pmatrix}$ = $\\begin{pmatrix}\n",
    "1 & -8\\\\ \n",
    "15 & 0\n",
    "\\end{pmatrix}.$"
   ]
  },
  {
   "cell_type": "code",
   "execution_count": 7,
   "id": "b0e42426",
   "metadata": {
    "scrolled": true
   },
   "outputs": [
    {
     "name": "stdout",
     "output_type": "stream",
     "text": [
      "A+B\n",
      "[[ 5 -3]\n",
      " [ 3  5]], \n",
      "A*B\n",
      "[[  4 -11]\n",
      " [ 12  -3]], \n",
      "B*A\n",
      "[[ 1 -8]\n",
      " [15  0]]\n"
     ]
    }
   ],
   "source": [
    "import numpy as np\n",
    "A = np.array([[1, -2], [3, 0]])\n",
    "B = np.array([[4, -1], [0, 5]])\n",
    "print(f'A+B\\n{A+B}, \\nA*B\\n{np.dot(A, B)}, \\nB*A\\n{np.dot(B, A)}')"
   ]
  },
  {
   "cell_type": "markdown",
   "id": "e8dfd5af",
   "metadata": {},
   "source": [
    "__3.__ Из закономерностей сложения и умножения матриц на число можно сделать вывод, что матрицы одного размера образуют линейное пространство. Вычислите линейную комбинацию $3A-2B+4C$ для матриц $A=\\begin{pmatrix}\n",
    "1 & 7\\\\ \n",
    "3 & -6\n",
    "\\end{pmatrix}$, $B=\\begin{pmatrix}\n",
    "0 & 5\\\\ \n",
    "2 & -1\n",
    "\\end{pmatrix}$, $C=\\begin{pmatrix}\n",
    "2 & -4\\\\ \n",
    "1 & 1\n",
    "\\end{pmatrix}.$"
   ]
  },
  {
   "cell_type": "markdown",
   "id": "fd120dc9",
   "metadata": {},
   "source": [
    "$3A-2B+4C=\\begin{pmatrix}\n",
    "3*1-2*0+4*2 & 3*7-2*5+4*-4\\\\ \n",
    "3*3-2*2+4*1 & 3*-6-2*-1+4*1\n",
    "\\end{pmatrix}$ = $\\begin{pmatrix}\n",
    "11 & -5\\\\ \n",
    "9 & -12\n",
    "\\end{pmatrix}.$"
   ]
  },
  {
   "cell_type": "code",
   "execution_count": 15,
   "id": "ed70d64f",
   "metadata": {},
   "outputs": [
    {
     "name": "stdout",
     "output_type": "stream",
     "text": [
      "3𝐴−2𝐵+4𝐶\n",
      "[[ 11  -5]\n",
      " [  9 -12]]\n"
     ]
    }
   ],
   "source": [
    "A = np.array([[1, 7], [3, -6]])\n",
    "B = np.array([[0, 5], [2, -1]])\n",
    "C = np.array([[2, -4], [1, 1]])\n",
    "print(f'3𝐴−2𝐵+4𝐶\\n{3*𝐴-2*𝐵+4*𝐶}')"
   ]
  },
  {
   "cell_type": "markdown",
   "id": "49c5ea57",
   "metadata": {},
   "source": [
    "__4.__ Дана матрица $A=\\begin{pmatrix}\n",
    "4 & 1\\\\ \n",
    "5 & -2\\\\ \n",
    "2 & 3\n",
    "\\end{pmatrix}$.\n",
    "Вычислите $AA^{T}$ и $A^{T}A$."
   ]
  },
  {
   "cell_type": "code",
   "execution_count": 18,
   "id": "297b88d1",
   "metadata": {},
   "outputs": [
    {
     "name": "stdout",
     "output_type": "stream",
     "text": [
      "𝐴*𝐴𝑇\n",
      "[[17 18 11]\n",
      " [18 29  4]\n",
      " [11  4 13]],\n",
      "𝐴𝑇*A\n",
      "[[45  0]\n",
      " [ 0 14]]\n"
     ]
    }
   ],
   "source": [
    "A = np.array([[4, 1], [5, -2], [2, 3]])\n",
    "print(f'𝐴*𝐴𝑇\\n{np.dot(A, A.T)},\\n𝐴𝑇*A\\n{np.dot(A.T, A)}')"
   ]
  },
  {
   "cell_type": "markdown",
   "id": "5cc5ffb3",
   "metadata": {},
   "source": [
    "__1.__ Вычислите определитель:\n",
    "\n",
    "   a)\n",
    "\n",
    "$$\\begin{vmatrix}\n",
    "sinx & -cosx\\\\ \n",
    "cosx & sinx\n",
    "\\end{vmatrix};$$\n",
    "\n",
    "   б)\n",
    "    \n",
    "$$\\begin{vmatrix}\n",
    "4 & 2 & 3\\\\ \n",
    "0 & 5 & 1\\\\ \n",
    "0 & 0 & 9\n",
    "\\end{vmatrix};$$\n",
    "    \n",
    "   в)\n",
    "\n",
    "$$\\begin{vmatrix}\n",
    "1 & 2 & 3\\\\ \n",
    "4 & 5 & 6\\\\ \n",
    "7 & 8 & 9\n",
    "\\end{vmatrix}.$$"
   ]
  },
  {
   "cell_type": "markdown",
   "id": "f039ccc7",
   "metadata": {},
   "source": [
    "a) $sin^2(x)+cos^2(x)=1$"
   ]
  },
  {
   "cell_type": "markdown",
   "id": "5afd835e",
   "metadata": {},
   "source": [
    "б) 4 * 5 * 9 = 180"
   ]
  },
  {
   "cell_type": "markdown",
   "id": "f3d8ff1c",
   "metadata": {},
   "source": [
    "в) 7 * (12-15) - 8 * (6-12) + 9 * (5-8) = 0"
   ]
  },
  {
   "cell_type": "markdown",
   "id": "20b85ead",
   "metadata": {},
   "source": [
    "__2.__ Определитель матрицы $A$ равен $4$. Найдите:\n",
    "\n",
    "   а) $det(A^{2})$;\n",
    "    \n",
    "   б) $det(A^{T})$;\n",
    "    \n",
    "   в) $det(2A)$."
   ]
  },
  {
   "cell_type": "markdown",
   "id": "668d2a25",
   "metadata": {},
   "source": [
    "   а) $det(A^{2})$ = 16;\n",
    "    \n",
    "   б) $det(A^{T})=det(A)=4$;\n",
    "    \n",
    "   в) $det(2A)=2^n det(A)=4*2^n$."
   ]
  },
  {
   "cell_type": "markdown",
   "id": "d344acfc",
   "metadata": {},
   "source": [
    "__3.__  Докажите, что матрица:\n",
    "\n",
    "$$\\begin{pmatrix}\n",
    "-2 & 7 & -3\\\\ \n",
    "4 & -14 & 6\\\\ \n",
    "-3 & 7 & 13\n",
    "\\end{pmatrix}$$\n",
    "   \n",
    "вырожденная."
   ]
  },
  {
   "cell_type": "markdown",
   "id": "8305071d",
   "metadata": {},
   "source": [
    "Строки 1 и 2 - линейно зависимые: i1 = i2 / -2"
   ]
  },
  {
   "cell_type": "markdown",
   "id": "d1a0832f",
   "metadata": {},
   "source": [
    "__4.__ Найдите ранг матрицы:\n",
    "\n",
    "   а) $\\begin{pmatrix}\n",
    "1 & 2 & 3\\\\ \n",
    "1 & 1 & 1\\\\ \n",
    "2 & 3 & 4\n",
    "\\end{pmatrix};$\n",
    "\n",
    "   б) $\\begin{pmatrix}\n",
    "0 & 0 & 2 & 1\\\\ \n",
    "0 & 0 & 2 & 2\\\\ \n",
    "0 & 0 & 4 & 3\\\\ \n",
    "2 & 3 & 5 & 6\n",
    "\\end{pmatrix}.$"
   ]
  },
  {
   "cell_type": "markdown",
   "id": "2760d9c8",
   "metadata": {},
   "source": [
    "   а) $\\begin{pmatrix}\n",
    "1 & 2 & 3\\\\ \n",
    "0 & -1 & -2\\\\ \n",
    "0 & -1 & -2\n",
    "\\end{pmatrix}$\n",
    "// Определитель - 2\n",
    "\n",
    "   б) $\\begin{pmatrix}\n",
    "0 & 0 & 2 & 1\\\\ \n",
    "0 & 0 & 0 & 1\\\\ \n",
    "0 & 0 & 0 & 0\\\\ \n",
    "2 & 3 & 5 & 6\n",
    "\\end{pmatrix}$\n",
    "// Определитель - 3"
   ]
  }
 ],
 "metadata": {
  "kernelspec": {
   "display_name": "Python 3 (ipykernel)",
   "language": "python",
   "name": "python3"
  },
  "language_info": {
   "codemirror_mode": {
    "name": "ipython",
    "version": 3
   },
   "file_extension": ".py",
   "mimetype": "text/x-python",
   "name": "python",
   "nbconvert_exporter": "python",
   "pygments_lexer": "ipython3",
   "version": "3.10.4"
  }
 },
 "nbformat": 4,
 "nbformat_minor": 5
}
